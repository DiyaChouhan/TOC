{
 "cells": [
  {
   "cell_type": "markdown",
   "metadata": {},
   "source": [
    "DFA of the machine which accepts string with mode 3:"
   ]
  },
  {
   "cell_type": "code",
   "execution_count": 1,
   "metadata": {},
   "outputs": [],
   "source": [
    "dfa={0:{'0':1,'1':1},1:{'0':2,'1':2},2:{'0':0,'1':0}}\n",
    "\n",
    "global current_state\n",
    "def abc(stri):\n",
    "    current_state=int(input(\"Enter current state\\n\"))\n",
    "    final_state=0\n",
    "    if current_state==0:\n",
    "        for i in stri:\n",
    "            current_state=dfa[current_state][i]\n",
    "        if current_state==final_state:\n",
    "                print(\"String acceptable\")\n",
    "        else:\n",
    "                print(\"String Not Acceptable\")\n",
    "    else:\n",
    "        print(\"Invalid current state\")\n"
   ]
  },
  {
   "cell_type": "code",
   "execution_count": 2,
   "metadata": {},
   "outputs": [
    {
     "name": "stdout",
     "output_type": "stream",
     "text": [
      "enter a string\n",
      "111010\n",
      "Enter current state\n",
      "0\n",
      "String acceptable\n"
     ]
    }
   ],
   "source": [
    "stri=input(\"enter a string\\n\")\n",
    "abc(stri)"
   ]
  },
  {
   "cell_type": "code",
   "execution_count": 3,
   "metadata": {},
   "outputs": [
    {
     "name": "stdout",
     "output_type": "stream",
     "text": [
      "enter a string\n",
      "11100001\n",
      "Enter current state\n",
      "2\n",
      "Invalid current state\n"
     ]
    }
   ],
   "source": [
    "stri=input(\"enter a string\\n\")\n",
    "abc(stri)"
   ]
  },
  {
   "cell_type": "code",
   "execution_count": 4,
   "metadata": {},
   "outputs": [
    {
     "name": "stdout",
     "output_type": "stream",
     "text": [
      "enter a string\n",
      "111010110\n",
      "Enter current state\n",
      "0\n",
      "String acceptable\n"
     ]
    }
   ],
   "source": [
    "stri=input(\"enter a string\\n\")\n",
    "abc(stri)"
   ]
  },
  {
   "cell_type": "code",
   "execution_count": 5,
   "metadata": {},
   "outputs": [
    {
     "name": "stdout",
     "output_type": "stream",
     "text": [
      "enter a string\n",
      "11100\n",
      "Enter current state\n",
      "0\n",
      "String Not Acceptable\n"
     ]
    }
   ],
   "source": [
    "stri=input(\"enter a string\\n\")\n",
    "abc(stri)"
   ]
  },
  {
   "cell_type": "markdown",
   "metadata": {},
   "source": [
    "DFA accepting string with eual number of 0 and 1:"
   ]
  },
  {
   "cell_type": "code",
   "execution_count": 1,
   "metadata": {},
   "outputs": [],
   "source": [
    "dfa={0:{'0':1,'1':2},1:{'0':3,'1':0},2:{'0':0,'1':3},3:{'0':2,'1':1}}\n",
    "global current_state\n",
    "def abc(stri):\n",
    "    current_state=int(input(\"Enter current state\\n\"))\n",
    "    final_state=0\n",
    "    if current_state==0:\n",
    "        for i in stri:\n",
    "            current_state=dfa[current_state][i]\n",
    "        if current_state==final_state:\n",
    "                print(\"String acceptable\")\n",
    "        else:\n",
    "                print(\"String Not Acceptable\")\n",
    "    else:\n",
    "        print(\"Invalid current state\")\n"
   ]
  },
  {
   "cell_type": "code",
   "execution_count": 2,
   "metadata": {},
   "outputs": [
    {
     "name": "stdout",
     "output_type": "stream",
     "text": [
      "enter a string\n",
      "1101\n",
      "Enter current state\n",
      "0\n",
      "String Not Acceptable\n"
     ]
    }
   ],
   "source": [
    "stri=input(\"enter a string\\n\")\n",
    "abc(stri)"
   ]
  },
  {
   "cell_type": "code",
   "execution_count": 3,
   "metadata": {},
   "outputs": [
    {
     "name": "stdout",
     "output_type": "stream",
     "text": [
      "enter a string\n",
      "1100110\n",
      "Enter current state\n",
      "0\n",
      "String Not Acceptable\n"
     ]
    }
   ],
   "source": [
    "stri=input(\"enter a string\\n\")\n",
    "abc(stri)"
   ]
  },
  {
   "cell_type": "code",
   "execution_count": 4,
   "metadata": {},
   "outputs": [
    {
     "name": "stdout",
     "output_type": "stream",
     "text": [
      "enter a string\n",
      "11001101\n",
      "Enter current state\n",
      "0\n",
      "String Not Acceptable\n"
     ]
    }
   ],
   "source": [
    "stri=input(\"enter a string\\n\")\n",
    "abc(stri)"
   ]
  },
  {
   "cell_type": "code",
   "execution_count": 5,
   "metadata": {},
   "outputs": [
    {
     "name": "stdout",
     "output_type": "stream",
     "text": [
      "enter a string\n",
      "111000\n",
      "Enter current state\n",
      "0\n",
      "String acceptable\n"
     ]
    }
   ],
   "source": [
    "stri=input(\"enter a string\\n\")\n",
    "abc(stri)"
   ]
  },
  {
   "cell_type": "code",
   "execution_count": 8,
   "metadata": {},
   "outputs": [
    {
     "name": "stdout",
     "output_type": "stream",
     "text": [
      "enter a string\n",
      "001101\n",
      "Enter current state\n",
      "1\n",
      "Invalid current state\n"
     ]
    }
   ],
   "source": [
    "stri=input(\"enter a string\\n\")\n",
    "abc(stri)"
   ]
  },
  {
   "cell_type": "markdown",
   "metadata": {},
   "source": [
    "DFA for a machine ending with 101:"
   ]
  },
  {
   "cell_type": "code",
   "execution_count": 1,
   "metadata": {},
   "outputs": [],
   "source": [
    "dfa={0:{'1':1,'0':0},1:{'1':1,'0':2},2:{'0':0,'1':3},3:{'0':2,'1':1}}\n",
    "global current_state\n",
    "def abc(stri):\n",
    "    current_state=int(input(\"Enter current state\\n\"))\n",
    "    final_state=3\n",
    "    if current_state==0:\n",
    "        for i in stri:\n",
    "            current_state=dfa[current_state][i]\n",
    "        if current_state==final_state:\n",
    "                print(\"String acceptable\")\n",
    "        else:\n",
    "                print(\"String Not Acceptable\")\n",
    "    else:\n",
    "        print(\"Invalid current state\")\n",
    "\n",
    "         "
   ]
  },
  {
   "cell_type": "code",
   "execution_count": 2,
   "metadata": {},
   "outputs": [
    {
     "name": "stdout",
     "output_type": "stream",
     "text": [
      "enter a string\n",
      "110101\n",
      "Enter current state\n",
      "0\n",
      "String acceptable\n"
     ]
    }
   ],
   "source": [
    "stri=input(\"enter a string\\n\")\n",
    "abc(stri)"
   ]
  },
  {
   "cell_type": "code",
   "execution_count": 3,
   "metadata": {},
   "outputs": [
    {
     "name": "stdout",
     "output_type": "stream",
     "text": [
      "enter a string\n",
      "10011\n",
      "Enter current state\n",
      "0\n",
      "String Not Acceptable\n"
     ]
    }
   ],
   "source": [
    "stri=input(\"enter a string\\n\")\n",
    "abc(stri)"
   ]
  },
  {
   "cell_type": "code",
   "execution_count": 4,
   "metadata": {},
   "outputs": [
    {
     "name": "stdout",
     "output_type": "stream",
     "text": [
      "enter a string\n",
      "1010110\n",
      "Enter current state\n",
      "1\n",
      "Invalid current state\n"
     ]
    }
   ],
   "source": [
    "stri=input(\"enter a string\\n\")\n",
    "abc(stri)"
   ]
  },
  {
   "cell_type": "code",
   "execution_count": 5,
   "metadata": {},
   "outputs": [
    {
     "name": "stdout",
     "output_type": "stream",
     "text": [
      "enter a string\n",
      "1101000101\n",
      "Enter current state\n",
      "0\n",
      "String acceptable\n"
     ]
    }
   ],
   "source": [
    "stri=input(\"enter a string\\n\")\n",
    "abc(stri)"
   ]
  },
  {
   "cell_type": "markdown",
   "metadata": {},
   "source": [
    "DFA for machine accepting consecutive three 1:"
   ]
  },
  {
   "cell_type": "code",
   "execution_count": 6,
   "metadata": {},
   "outputs": [],
   "source": [
    "dfa={0:{'1':1,'0':0},1:{'1':2,'0':0},2:{'0':0,'1':3},3:{'0':3,'1':3}}\n",
    "global current_state\n",
    "def abc(stri):\n",
    "    current_state=int(input(\"Enter current state\\n\"))\n",
    "    final_state=3\n",
    "    if current_state==0:\n",
    "        for i in stri:\n",
    "            current_state=dfa[current_state][i]\n",
    "        if current_state==final_state:\n",
    "                print(\"String acceptable\")\n",
    "        else:\n",
    "                print(\"String Not Acceptable\")\n",
    "    else:\n",
    "        print(\"Invalid current state\")"
   ]
  },
  {
   "cell_type": "code",
   "execution_count": 7,
   "metadata": {},
   "outputs": [
    {
     "name": "stdout",
     "output_type": "stream",
     "text": [
      "enter a string\n",
      "110001\n",
      "Enter current state\n",
      "0\n",
      "String Not Acceptable\n"
     ]
    }
   ],
   "source": [
    "stri=input(\"enter a string\\n\")\n",
    "abc(stri)"
   ]
  },
  {
   "cell_type": "code",
   "execution_count": 8,
   "metadata": {},
   "outputs": [
    {
     "name": "stdout",
     "output_type": "stream",
     "text": [
      "enter a string\n",
      "11101\n",
      "Enter current state\n",
      "0\n",
      "String acceptable\n"
     ]
    }
   ],
   "source": [
    "stri=input(\"enter a string\\n\")\n",
    "abc(stri)"
   ]
  },
  {
   "cell_type": "code",
   "execution_count": 9,
   "metadata": {},
   "outputs": [
    {
     "name": "stdout",
     "output_type": "stream",
     "text": [
      "enter a string\n",
      "1010111\n",
      "Enter current state\n",
      "2\n",
      "Invalid current state\n"
     ]
    }
   ],
   "source": [
    "stri=input(\"enter a string\\n\")\n",
    "abc(stri)"
   ]
  },
  {
   "cell_type": "code",
   "execution_count": 10,
   "metadata": {},
   "outputs": [
    {
     "name": "stdout",
     "output_type": "stream",
     "text": [
      "enter a string\n",
      "1110001\n",
      "Enter current state\n",
      "0\n",
      "String acceptable\n"
     ]
    }
   ],
   "source": [
    "stri=input(\"enter a string\\n\")\n",
    "abc(stri)"
   ]
  },
  {
   "cell_type": "code",
   "execution_count": null,
   "metadata": {},
   "outputs": [],
   "source": []
  }
 ],
 "metadata": {
  "kernelspec": {
   "display_name": "Python 3",
   "language": "python",
   "name": "python3"
  },
  "language_info": {
   "codemirror_mode": {
    "name": "ipython",
    "version": 3
   },
   "file_extension": ".py",
   "mimetype": "text/x-python",
   "name": "python",
   "nbconvert_exporter": "python",
   "pygments_lexer": "ipython3",
   "version": "3.7.1"
  }
 },
 "nbformat": 4,
 "nbformat_minor": 2
}
