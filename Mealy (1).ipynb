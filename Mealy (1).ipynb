{
 "cells": [
  {
   "cell_type": "markdown",
   "metadata": {},
   "source": [
    "\n",
    "Mealy machine that produce 1's complement as output"
   ]
  },
  {
   "cell_type": "code",
   "execution_count": 3,
   "metadata": {},
   "outputs": [
    {
     "name": "stdin",
     "output_type": "stream",
     "text": [
      "enter a string 110\n"
     ]
    },
    {
     "name": "stdout",
     "output_type": "stream",
     "text": [
      "0 0 1 "
     ]
    }
   ],
   "source": [
    "dfa=dict()\n",
    "dfa[(0,'0')]=(0,'1')\n",
    "dfa[(0,'1')]=(0,'0')\n",
    "s=input(\"enter a string\")\n",
    "class mealy:\n",
    "  def __init__(self):\n",
    "    self.cs=0\n",
    "  def moves(self,s):\n",
    "    for i in s:\n",
    "      self.cs=dfa[self.cs,i][0]\n",
    "      print(dfa[self.cs,i][1],end=\" \")\n",
    "ob=mealy()\n",
    "ob.moves(s)"
   ]
  },
  {
   "cell_type": "code",
   "execution_count": 4,
   "metadata": {},
   "outputs": [
    {
     "name": "stdin",
     "output_type": "stream",
     "text": [
      "enter a string 000\n"
     ]
    },
    {
     "name": "stdout",
     "output_type": "stream",
     "text": [
      "1 1 1 "
     ]
    }
   ],
   "source": [
    "dfa=dict()\n",
    "dfa[(0,'0')]=(0,'1')\n",
    "dfa[(0,'1')]=(0,'0')\n",
    "s=input(\"enter a string\")\n",
    "class mealy:\n",
    "  def __init__(self):\n",
    "    self.cs=0\n",
    "  def moves(self,s):\n",
    "    for i in s:\n",
    "      self.cs=dfa[self.cs,i][0]\n",
    "      print(dfa[self.cs,i][1],end=\" \")\n",
    "ob=mealy()\n",
    "ob.moves(s)"
   ]
  },
  {
   "cell_type": "code",
   "execution_count": null,
   "metadata": {},
   "outputs": [],
   "source": [
    "dfa=dict()\n",
    "dfa[(0,'0')]=(0,'1')\n",
    "dfa[(0,'1')]=(0,'0')\n",
    "s=input(\"enter a string\")\n",
    "class mealy:\n",
    "  def __init__(self):\n",
    "    self.cs=0\n",
    "  def moves(self,s):\n",
    "    for i in s:\n",
    "      self.cs=dfa[self.cs,i][0]\n",
    "      print(dfa[self.cs,i][1],end=\" \")\n",
    "ob=mealy()\n",
    "ob.moves(s)"
   ]
  },
  {
   "cell_type": "markdown",
   "metadata": {},
   "source": [
    "\n",
    "Mealy machine that produce 2's complement as output"
   ]
  },
  {
   "cell_type": "code",
   "execution_count": 6,
   "metadata": {},
   "outputs": [
    {
     "name": "stdin",
     "output_type": "stream",
     "text": [
      "enter a string 1100\n"
     ]
    },
    {
     "name": "stdout",
     "output_type": "stream",
     "text": [
      "0100\n"
     ]
    }
   ],
   "source": [
    "dfa=dict()\n",
    "dfa[(0,'0')]=(0,'0')\n",
    "dfa[(0,'1')]=(1,'1')\n",
    "dfa[(1,'0')]=(1,'1')\n",
    "dfa[(1,'1')]=(1,'0')\n",
    "s=input(\"enter a string\")\n",
    "s=s[::-1]\n",
    "class mealy:\n",
    "  def __init__(self,dfa):\n",
    "    self.cs=0\n",
    "  def moves(self,s):\n",
    "    y=''\n",
    "    for i in s:\n",
    "        self.x=self.cs\n",
    "        self.cs=dfa[self.cs,i][0]\n",
    "        y=y+dfa[self.x,i][1]\n",
    "    print(y[::-1])\n",
    "ob=mealy(dfa)\n",
    "ob.moves(s)"
   ]
  },
  {
   "cell_type": "code",
   "execution_count": 7,
   "metadata": {},
   "outputs": [
    {
     "name": "stdin",
     "output_type": "stream",
     "text": [
      "enter a string 000\n"
     ]
    },
    {
     "name": "stdout",
     "output_type": "stream",
     "text": [
      "000\n"
     ]
    }
   ],
   "source": [
    "dfa=dict()\n",
    "dfa[(0,'0')]=(0,'0')\n",
    "dfa[(0,'1')]=(1,'1')\n",
    "dfa[(1,'0')]=(1,'1')\n",
    "dfa[(1,'1')]=(1,'0')\n",
    "s=input(\"enter a string\")\n",
    "s=s[::-1]\n",
    "class mealy:\n",
    "  def __init__(self,dfa):\n",
    "    self.cs=0\n",
    "  def moves(self,s):\n",
    "    y=''\n",
    "    for i in s:\n",
    "        self.x=self.cs\n",
    "        self.cs=dfa[self.cs,i][0]\n",
    "        y=y+dfa[self.x,i][1]\n",
    "    print(y[::-1])\n",
    "ob=mealy(dfa)\n",
    "ob.moves(s)"
   ]
  },
  {
   "cell_type": "code",
   "execution_count": 8,
   "metadata": {},
   "outputs": [
    {
     "name": "stdin",
     "output_type": "stream",
     "text": [
      "enter a string 110011\n"
     ]
    },
    {
     "name": "stdout",
     "output_type": "stream",
     "text": [
      "001101\n"
     ]
    }
   ],
   "source": [
    "dfa=dict()\n",
    "dfa[(0,'0')]=(0,'0')\n",
    "dfa[(0,'1')]=(1,'1')\n",
    "dfa[(1,'0')]=(1,'1')\n",
    "dfa[(1,'1')]=(1,'0')\n",
    "s=input(\"enter a string\")\n",
    "s=s[::-1]\n",
    "class mealy:\n",
    "  def __init__(self,dfa):\n",
    "    self.cs=0\n",
    "  def moves(self,s):\n",
    "    y=''\n",
    "    for i in s:\n",
    "        self.x=self.cs\n",
    "        self.cs=dfa[self.cs,i][0]\n",
    "        y=y+dfa[self.x,i][1]\n",
    "    print(y[::-1])\n",
    "ob=mealy(dfa)\n",
    "ob.moves(s)"
   ]
  },
  {
   "cell_type": "markdown",
   "metadata": {},
   "source": [
    "Mealy Machine for computing residue modulo 3"
   ]
  },
  {
   "cell_type": "code",
   "execution_count": 9,
   "metadata": {},
   "outputs": [
    {
     "name": "stdin",
     "output_type": "stream",
     "text": [
      "Enter a string 1111\n"
     ]
    },
    {
     "name": "stdout",
     "output_type": "stream",
     "text": [
      "Remainder: 0\n"
     ]
    }
   ],
   "source": [
    "dfa=dict()\n",
    "dfa[(0,'0')]=(0,'0')\n",
    "dfa[(0,'1')]=(1,'1')\n",
    "dfa[(1,'0')]=(2,'2')\n",
    "dfa[(1,'1')]=(0,'0')\n",
    "dfa[(2,'0')]=(1,'1')\n",
    "dfa[(2,'1')]=(2,'2')\n",
    "s=input(\"Enter a string\")\n",
    "class mealy:\n",
    "    def __init__(self,dfa):\n",
    "        self.current_state=0\n",
    "        self.current_state1=0\n",
    "    def moves(self,s):\n",
    "        for i in s:\n",
    "            self.current_state1=self.current_state\n",
    "            self.current_state=dfa[self.current_state,i][0]\n",
    "            \n",
    "        print(\"Remainder:\",dfa[self.current_state1,i][1])\n",
    "ob=mealy(dfa)\n",
    "ob.moves(s)"
   ]
  },
  {
   "cell_type": "code",
   "execution_count": 10,
   "metadata": {},
   "outputs": [
    {
     "name": "stdin",
     "output_type": "stream",
     "text": [
      "Enter a string 111\n"
     ]
    },
    {
     "name": "stdout",
     "output_type": "stream",
     "text": [
      "Remainder: 1\n"
     ]
    }
   ],
   "source": [
    "dfa=dict()\n",
    "dfa[(0,'0')]=(0,'0')\n",
    "dfa[(0,'1')]=(1,'1')\n",
    "dfa[(1,'0')]=(2,'2')\n",
    "dfa[(1,'1')]=(0,'0')\n",
    "dfa[(2,'0')]=(1,'1')\n",
    "dfa[(2,'1')]=(2,'2')\n",
    "s=input(\"Enter a string\")\n",
    "class mealy:\n",
    "    def __init__(self,dfa):\n",
    "        self.current_state=0\n",
    "        self.current_state1=0\n",
    "    def moves(self,s):\n",
    "        for i in s:\n",
    "            self.current_state1=self.current_state\n",
    "            self.current_state=dfa[self.current_state,i][0]\n",
    "            \n",
    "        print(\"Remainder:\",dfa[self.current_state1,i][1])\n",
    "ob=mealy(dfa)\n",
    "ob.moves(s)"
   ]
  },
  {
   "cell_type": "code",
   "execution_count": 11,
   "metadata": {},
   "outputs": [
    {
     "name": "stdin",
     "output_type": "stream",
     "text": [
      "Enter a string 111000111\n"
     ]
    },
    {
     "name": "stdout",
     "output_type": "stream",
     "text": [
      "Remainder: 2\n"
     ]
    }
   ],
   "source": [
    "dfa=dict()\n",
    "dfa[(0,'0')]=(0,'0')\n",
    "dfa[(0,'1')]=(1,'1')\n",
    "dfa[(1,'0')]=(2,'2')\n",
    "dfa[(1,'1')]=(0,'0')\n",
    "dfa[(2,'0')]=(1,'1')\n",
    "dfa[(2,'1')]=(2,'2')\n",
    "s=input(\"Enter a string\")\n",
    "class mealy:\n",
    "    def __init__(self,dfa):\n",
    "        self.current_state=0\n",
    "        self.current_state1=0\n",
    "    def moves(self,s):\n",
    "        for i in s:\n",
    "            self.current_state1=self.current_state\n",
    "            self.current_state=dfa[self.current_state,i][0]\n",
    "            \n",
    "        print(\"Remainder:\",dfa[self.current_state1,i][1])\n",
    "ob=mealy(dfa)\n",
    "ob.moves(s)"
   ]
  },
  {
   "cell_type": "markdown",
   "metadata": {},
   "source": [
    "Simulate a Mealy machine to display odd or even based on the number of 1's"
   ]
  },
  {
   "cell_type": "code",
   "execution_count": 2,
   "metadata": {},
   "outputs": [
    {
     "name": "stdin",
     "output_type": "stream",
     "text": [
      "enter a string 11\n"
     ]
    },
    {
     "name": "stdout",
     "output_type": "stream",
     "text": [
      "1\n",
      "odd\n",
      "0\n",
      "even\n"
     ]
    }
   ],
   "source": [
    "dfa={0:{'0':(0,'even'),'1':(1,'odd')},1:{'0':(1,'odd'),'1':(0,'even')}}\n",
    "s=input(\"enter a string\")\n",
    "def mealy(s):\n",
    "  current_state=0\n",
    "  current_state1=0\n",
    "  for i in s:\n",
    "      current_state1=current_state\n",
    "      current_state=dfa[current_state][i][0]\n",
    "      print(current_state)\n",
    "      output=dfa[current_state1][i][1]\n",
    "      print(output)\n",
    "mealy(s)"
   ]
  },
  {
   "cell_type": "code",
   "execution_count": null,
   "metadata": {},
   "outputs": [],
   "source": []
  }
 ],
 "metadata": {
  "kernelspec": {
   "display_name": "Python 3",
   "language": "python",
   "name": "python3"
  },
  "language_info": {
   "codemirror_mode": {
    "name": "ipython",
    "version": 3
   },
   "file_extension": ".py",
   "mimetype": "text/x-python",
   "name": "python",
   "nbconvert_exporter": "python",
   "pygments_lexer": "ipython3",
   "version": "3.7.3"
  }
 },
 "nbformat": 4,
 "nbformat_minor": 4
}
