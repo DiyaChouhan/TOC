{
 "cells": [
  {
   "cell_type": "markdown",
   "metadata": {},
   "source": [
    "To check whether string is even or odd using DFA."
   ]
  },
  {
   "cell_type": "code",
   "execution_count": 15,
   "metadata": {},
   "outputs": [
    {
     "name": "stdin",
     "output_type": "stream",
     "text": [
      "enter a string aa\n"
     ]
    },
    {
     "name": "stdout",
     "output_type": "stream",
     "text": [
      "aceept\n"
     ]
    }
   ],
   "source": [
    "dfa={0:{'a':1,'b':3},1:{'a':0,'b':2},2:{'a':3,'b':1},3:{'a':2,'b':0}}\n",
    "stri=input(\"enter a string\")\n",
    "def abc(stri):\n",
    "    cs=0\n",
    "    fs=0\n",
    "    for i in stri:\n",
    "        cs=dfa[cs][i]\n",
    "    if(cs==fs):\n",
    "        print(\"aceept\")\n",
    "    else:\n",
    "        print(\"not accept\")\n",
    "abc(stri)"
   ]
  },
  {
   "cell_type": "markdown",
   "metadata": {},
   "source": [
    "To accept the only string starting with a using DFA"
   ]
  },
  {
   "cell_type": "code",
   "execution_count": 19,
   "metadata": {},
   "outputs": [
    {
     "name": "stdin",
     "output_type": "stream",
     "text": [
      "enter a string bbbbbb\n"
     ]
    },
    {
     "name": "stdout",
     "output_type": "stream",
     "text": [
      "not accept\n"
     ]
    }
   ],
   "source": [
    "dfa={0:{'a':1,'b':2},1:{'a':1,'b':1},2:{'a':2,'b':2}}\n",
    "stri=input(\"enter a string\")\n",
    "def abc(stri):\n",
    "    cs=0\n",
    "    fs=1\n",
    "    for i in stri:\n",
    "        cs=dfa[cs][i]\n",
    "    if(cs==fs):\n",
    "        print(\"accept\")\n",
    "    else:\n",
    "        print(\"not accept\")\n",
    "abc(stri)"
   ]
  },
  {
   "cell_type": "markdown",
   "metadata": {},
   "source": [
    "DFA using Class"
   ]
  },
  {
   "cell_type": "code",
   "execution_count": 2,
   "metadata": {},
   "outputs": [
    {
     "name": "stdin",
     "output_type": "stream",
     "text": [
      "Enter thr string \n"
     ]
    },
    {
     "name": "stdout",
     "output_type": "stream",
     "text": [
      "Accept\n"
     ]
    }
   ],
   "source": [
    "dfa={0:{'a':1,'b':3},1:{'a':0,'b':2},2:{'a':3,'b':1},3:{'a':2,'b':0}}\n",
    "class EvenOdd:\n",
    "    def __init__(self,dfa):\n",
    "        self.current_state=0\n",
    "        self.final_state=0\n",
    "    def moves(self,string):\n",
    "        for i in string:\n",
    "            self.current_state=dfa[self.current_state][i]\n",
    "        if(self.current_state==self.final_state):\n",
    "            print(\"Accept\")\n",
    "        else:\n",
    "            print(\"Not Accept\")\n",
    "string=input(\"Enter thr string\")\n",
    "ob=EvenOdd(dfa)\n",
    "ob.moves(string)"
   ]
  },
  {
   "cell_type": "code",
   "execution_count": null,
   "metadata": {},
   "outputs": [],
   "source": []
  },
  {
   "cell_type": "code",
   "execution_count": null,
   "metadata": {},
   "outputs": [],
   "source": []
  }
 ],
 "metadata": {
  "kernelspec": {
   "display_name": "Python 3",
   "language": "python",
   "name": "python3"
  },
  "language_info": {
   "codemirror_mode": {
    "name": "ipython",
    "version": 3
   },
   "file_extension": ".py",
   "mimetype": "text/x-python",
   "name": "python",
   "nbconvert_exporter": "python",
   "pygments_lexer": "ipython3",
   "version": "3.7.3"
  }
 },
 "nbformat": 4,
 "nbformat_minor": 4
}
