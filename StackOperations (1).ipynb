{
 "cells": [
  {
   "cell_type": "code",
   "execution_count": null,
   "metadata": {},
   "outputs": [],
   "source": [
    "#Stack Application\n",
    "class stack:\n",
    "    def __init__ (self):\n",
    "        self.items=[]\n",
    "    def push(self,item):\n",
    "        self.items.append(item)\n",
    "    def pop(self):\n",
    "        return self.items.pop()\n",
    "    def isempty(self):\n",
    "        return self.items==[]\n",
    "    def size(self):\n",
    "        return len(self.items)\n",
    "s=stack()\n",
    "s.push('Diya')\n",
    "s.push('Deeksha')\n",
    "s.push('Darshika')\n",
    "print(s.size())\n",
    "print(s.pop())\n",
    "print(s.pop())\n",
    "print(s.pop())\n",
    "print(s.size())\n",
    "print(s.isempty())\n",
    "    \n",
    "        \n",
    "    "
   ]
  },
  {
   "cell_type": "code",
   "execution_count": null,
   "metadata": {},
   "outputs": [],
   "source": [
    "#File Operations\n",
    "#f=open(\"Riya.txt\",\"x\")\n",
    "f=open(\"Riya.txt\",\"w\")\n",
    "f.write(\"Hello this is my first file\")\n",
    "f.close()\n",
    "wc=0\n",
    "fi=input(\"Write name of fileS\")\n",
    "with open(fi,'r') as file:\n",
    "    for line in file:\n",
    "        l=line.split()\n",
    "        wc=wc+len(l)\n",
    "print(wc)"
   ]
  },
  {
   "cell_type": "code",
   "execution_count": null,
   "metadata": {},
   "outputs": [],
   "source": [
    "#File\n",
    "f=open(\"Diya.txt\",\"x\")\n",
    "f=open(\"Diya.text\",\"w\")\n",
    "f.write(\"Hello this is my first file\")\n",
    "f.close()\n",
    "f=open(\"Diya.text\",\"r\")"
   ]
  },
  {
   "cell_type": "code",
   "execution_count": null,
   "metadata": {},
   "outputs": [],
   "source": [
    "#String Parenthesis\n",
    "class stack:\n",
    "    def __init__ (self):\n",
    "        self.items=[]\n",
    "    def push(self,item):\n",
    "        self.items.append(item)\n",
    "    def pop(self):\n",
    "        return self.items.pop()\n",
    "    def isempty(self):\n",
    "        return self.items==[]\n",
    "    def size(self):\n",
    "        return len(self.items)\n",
    "s=stack()\n",
    "a=input(\"Enter the string\")\n",
    "\n",
    "for i in range(len(a)):\n",
    "    if a[i]==\"(\":\n",
    "        s.push(a[i])\n",
    "    elif a[i]==\")\":\n",
    "        if s.isempty():\n",
    "            print(\"unbalanced\")\n",
    "            break\n",
    "        else:\n",
    "            s.pop()\n",
    "            if s.isempty() and i==(len(a)-1):\n",
    "                print(\"balanced\")\n",
    "\n",
    "        \n",
    "        \n",
    "    "
   ]
  },
  {
   "cell_type": "code",
   "execution_count": null,
   "metadata": {},
   "outputs": [],
   "source": []
  },
  {
   "cell_type": "code",
   "execution_count": null,
   "metadata": {},
   "outputs": [],
   "source": []
  },
  {
   "cell_type": "code",
   "execution_count": null,
   "metadata": {},
   "outputs": [],
   "source": []
  },
  {
   "cell_type": "code",
   "execution_count": null,
   "metadata": {},
   "outputs": [],
   "source": []
  },
  {
   "cell_type": "code",
   "execution_count": null,
   "metadata": {},
   "outputs": [],
   "source": []
  },
  {
   "cell_type": "code",
   "execution_count": null,
   "metadata": {},
   "outputs": [],
   "source": []
  }
 ],
 "metadata": {
  "kernelspec": {
   "display_name": "Python 3",
   "language": "python",
   "name": "python3"
  },
  "language_info": {
   "codemirror_mode": {
    "name": "ipython",
    "version": 3
   },
   "file_extension": ".py",
   "mimetype": "text/x-python",
   "name": "python",
   "nbconvert_exporter": "python",
   "pygments_lexer": "ipython3",
   "version": "3.7.3"
  }
 },
 "nbformat": 4,
 "nbformat_minor": 4
}
