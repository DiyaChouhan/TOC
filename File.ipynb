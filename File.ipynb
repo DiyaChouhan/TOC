{
 "cells": [
  {
   "cell_type": "markdown",
   "metadata": {},
   "source": [
    "#File Operations"
   ]
  },
  {
   "cell_type": "code",
   "execution_count": 1,
   "metadata": {},
   "outputs": [
    {
     "name": "stdin",
     "output_type": "stream",
     "text": [
      "Write name of fileS Riya.txt\n"
     ]
    },
    {
     "name": "stdout",
     "output_type": "stream",
     "text": [
      "6\n"
     ]
    }
   ],
   "source": [
    "#f=open(\"Riya.txt\",\"x\")\n",
    "f=open(\"Riya.txt\",\"w\")\n",
    "f.write(\"Hello this is my first file\")\n",
    "f.close()\n",
    "wc=0\n",
    "fi=input(\"Write name of fileS\")\n",
    "with open(fi,'r') as file:\n",
    "    for line in file:\n",
    "        l=line.split()\n",
    "        wc=wc+len(l)\n",
    "print(wc)"
   ]
  },
  {
   "cell_type": "markdown",
   "metadata": {},
   "source": [
    "File Operarion"
   ]
  },
  {
   "cell_type": "code",
   "execution_count": 2,
   "metadata": {},
   "outputs": [],
   "source": [
    "#File\n",
    "f=open(\"Diya.txt\",\"x\")\n",
    "f=open(\"Diya.text\",\"w\")\n",
    "f.write(\"Hello this is my first file\")\n",
    "f.close()\n",
    "f=open(\"Diya.text\",\"r\")"
   ]
  },
  {
   "cell_type": "code",
   "execution_count": null,
   "metadata": {},
   "outputs": [],
   "source": []
  }
 ],
 "metadata": {
  "kernelspec": {
   "display_name": "Python 3",
   "language": "python",
   "name": "python3"
  },
  "language_info": {
   "codemirror_mode": {
    "name": "ipython",
    "version": 3
   },
   "file_extension": ".py",
   "mimetype": "text/x-python",
   "name": "python",
   "nbconvert_exporter": "python",
   "pygments_lexer": "ipython3",
   "version": "3.7.3"
  }
 },
 "nbformat": 4,
 "nbformat_minor": 4
}
